{
 "cells": [
  {
   "cell_type": "markdown",
   "metadata": {},
   "source": [
    "# <center> UNIVERSIDADE FEDERAL FLUMINENSE \n",
    "## <center> Projeto de Desenvolvimento Acadêmico"
   ]
  },
  {
   "cell_type": "markdown",
   "metadata": {},
   "source": [
    "![UFF](https://img.elo7.com.br/product/main/1C78BA7/poster-brasao-uff-advogado.jpg)"
   ]
  },
  {
   "cell_type": "markdown",
   "metadata": {},
   "source": [
    "# Pandas"
   ]
  },
  {
   "cell_type": "markdown",
   "metadata": {},
   "source": [
    "Esse texto apresenta para crianças de forma simples o que é a biblioteca Pandas, suas principais funções e a importância principalmente para a Ciência da Computação, como objetivo de inspirar o público a conhecer e quem sabe se profissionalizar na área."
   ]
  },
  {
   "cell_type": "markdown",
   "metadata": {},
   "source": [
    "![Pndas](https://media1.giphy.com/media/13EjnL7RwHmA2Q/200.gif?cid=b4114d905c3bf1394a2e632e3667c72d)"
   ]
  },
  {
   "cell_type": "markdown",
   "metadata": {},
   "source": [
    "## O que é?\n",
    "\n",
    "É uma biblioteca de phyton que fornece ferramentas de **ANÁLISE DE DADOS**, área que tem cada vez mais se tornado essecial para qualquer empresa, já que possibilita não apenas entender, como prever novas tecnologias, entre diversas outras coisas. Para ilustrar o aplicação, usaremos um exemplo simples. "
   ]
  },
  {
   "cell_type": "markdown",
   "metadata": {},
   "source": [
    "          Imagine que foi feita uma pesquisa de usuário em cinco países, e dentre os países três falam línguas diferentes e dois tem como língua nativa o inglês. Em todos os casos, as pesquisas continham nome, endereço, telefone, se gostaram e se voltariam a comprar o produto."
   ]
  },
  {
   "cell_type": "markdown",
   "metadata": {},
   "source": [
    "Como todas as pesquisas, o exemplo acima possui dados que serão usados para uma certa finalidade e outras que não. Pensando em um **cénario de previsão de um produto no mercado**, não se mostra relevante saber nem o nome e nem o telefone, mas os outros dados sim. Ou seja, nessa caso simples, como em diversos outros, se faz necessário fazer uma **LIMPEZA DOS DADOS**. "
   ]
  },
  {
   "cell_type": "markdown",
   "metadata": {},
   "source": [
    "Agora, se pensarmos que para que essa pesquisa seja **entendida e usada pela empresa**, precisaria ter respostas apenas em inglês, como foi citado no exemplo só dois de cinco países possuem esse requisito, ou seja, os outros terão que sofrer uma **TRANSFORMAÇÃO DOS DADOS** para que assim os sejam compreendidos."
   ]
  },
  {
   "cell_type": "markdown",
   "metadata": {},
   "source": [
    "Como o conjunto de dados mostrado no exemplo acima, para que os **dados** sejam entendidos e usados de forma simples e prática, precisa-se fazer alterações. Mostrando assim que ferramentas que faça as **alterações necessárias** para a análise de dados, tem se tornando cada vez mais essecial, e a biblioteca **PANDAS** é um exemplo disso."
   ]
  },
  {
   "cell_type": "markdown",
   "metadata": {},
   "source": [
    "## Apresentações iniciais"
   ]
  },
  {
   "cell_type": "markdown",
   "metadata": {},
   "source": [
    "![i](https://media1.tenor.com/images/acaf88d7298b2adf48b252ff9634470d/tenor.gif?itemid=10339241)"
   ]
  },
  {
   "cell_type": "markdown",
   "metadata": {},
   "source": [
    "Para começar precisamos importar a biblioteca para o notebook:"
   ]
  },
  {
   "cell_type": "code",
   "execution_count": 2,
   "metadata": {},
   "outputs": [],
   "source": [
    "import pandas as pd"
   ]
  },
  {
   "cell_type": "markdown",
   "metadata": {},
   "source": [
    "Para começar, vamos entender um pouco como funcionam **SERIES** E **DATAFRAMES**, para entender melhor como funciona, mostraremos as principais funções que apoiam esses dados. "
   ]
  },
  {
   "cell_type": "markdown",
   "metadata": {},
   "source": [
    " ## Serie "
   ]
  },
  {
   "cell_type": "markdown",
   "metadata": {},
   "source": [
    " É um array unidimensional, como se fosse uma linha ou uma coluna de uma tabela."
   ]
  },
  {
   "cell_type": "code",
   "execution_count": 3,
   "metadata": {},
   "outputs": [],
   "source": [
    "#notas é o nome da série criada\n",
    "notas = pd.Series([10, 4, 5, 9], index=['Ana', 'João', 'Olivia', 'Pedro'])"
   ]
  },
  {
   "cell_type": "markdown",
   "metadata": {},
   "source": [
    "Index são rótulos dos dados contidos nas series, que ajuda na busca desses dados."
   ]
  },
  {
   "cell_type": "code",
   "execution_count": 4,
   "metadata": {},
   "outputs": [
    {
     "data": {
      "text/plain": [
       "Ana       10\n",
       "João       4\n",
       "Olivia     5\n",
       "Pedro      9\n",
       "dtype: int64"
      ]
     },
     "execution_count": 4,
     "metadata": {},
     "output_type": "execute_result"
    }
   ],
   "source": [
    "notas"
   ]
  },
  {
   "cell_type": "markdown",
   "metadata": {},
   "source": [
    "Os indices nas séries ajudam a a encontrar elementos:"
   ]
  },
  {
   "cell_type": "code",
   "execution_count": 5,
   "metadata": {},
   "outputs": [
    {
     "data": {
      "text/plain": [
       "10"
      ]
     },
     "execution_count": 5,
     "metadata": {},
     "output_type": "execute_result"
    }
   ],
   "source": [
    "notas['Ana']"
   ]
  },
  {
   "cell_type": "markdown",
   "metadata": {},
   "source": [
    "- Média :"
   ]
  },
  {
   "cell_type": "code",
   "execution_count": 6,
   "metadata": {},
   "outputs": [
    {
     "data": {
      "text/plain": [
       "7.0"
      ]
     },
     "execution_count": 6,
     "metadata": {},
     "output_type": "execute_result"
    }
   ],
   "source": [
    "notas.mean()"
   ]
  },
  {
   "cell_type": "markdown",
   "metadata": {},
   "source": [
    "- Operação aritméticas:"
   ]
  },
  {
   "cell_type": "code",
   "execution_count": 83,
   "metadata": {},
   "outputs": [
    {
     "data": {
      "text/plain": [
       "Ana       12\n",
       "João       6\n",
       "Olivia     7\n",
       "Pedro     11\n",
       "dtype: int64"
      ]
     },
     "execution_count": 83,
     "metadata": {},
     "output_type": "execute_result"
    }
   ],
   "source": [
    "#Somar 2 em todos os elementos\n",
    "notas.add(2)"
   ]
  },
  {
   "cell_type": "code",
   "execution_count": 85,
   "metadata": {},
   "outputs": [
    {
     "data": {
      "text/plain": [
       "Ana       8\n",
       "João      2\n",
       "Olivia    3\n",
       "Pedro     7\n",
       "dtype: int64"
      ]
     },
     "execution_count": 85,
     "metadata": {},
     "output_type": "execute_result"
    }
   ],
   "source": [
    "#Subtrair 2 de todos os elementos\n",
    "notas.sub(2)"
   ]
  },
  {
   "cell_type": "code",
   "execution_count": 88,
   "metadata": {},
   "outputs": [
    {
     "data": {
      "text/plain": [
       "Ana       20\n",
       "João       8\n",
       "Olivia    10\n",
       "Pedro     18\n",
       "dtype: int64"
      ]
     },
     "execution_count": 88,
     "metadata": {},
     "output_type": "execute_result"
    }
   ],
   "source": [
    "#Multiplicar todos por 2\n",
    "notas.mul(2)"
   ]
  },
  {
   "cell_type": "code",
   "execution_count": 89,
   "metadata": {},
   "outputs": [
    {
     "data": {
      "text/plain": [
       "Ana       5.0\n",
       "João      2.0\n",
       "Olivia    2.5\n",
       "Pedro     4.5\n",
       "dtype: float64"
      ]
     },
     "execution_count": 89,
     "metadata": {},
     "output_type": "execute_result"
    }
   ],
   "source": [
    "notas.div(2)"
   ]
  },
  {
   "cell_type": "markdown",
   "metadata": {},
   "source": [
    "- Desvio Padrão:"
   ]
  },
  {
   "cell_type": "code",
   "execution_count": 7,
   "metadata": {},
   "outputs": [
    {
     "data": {
      "text/plain": [
       "2.943920288775949"
      ]
     },
     "execution_count": 7,
     "metadata": {},
     "output_type": "execute_result"
    }
   ],
   "source": [
    "notas.std()"
   ]
  },
  {
   "cell_type": "markdown",
   "metadata": {},
   "source": [
    "- Estátistica dos dados:"
   ]
  },
  {
   "cell_type": "code",
   "execution_count": 8,
   "metadata": {
    "scrolled": true
   },
   "outputs": [
    {
     "data": {
      "text/plain": [
       "count     4.00000\n",
       "mean      7.00000\n",
       "std       2.94392\n",
       "min       4.00000\n",
       "25%       4.75000\n",
       "50%       7.00000\n",
       "75%       9.25000\n",
       "max      10.00000\n",
       "dtype: float64"
      ]
     },
     "execution_count": 8,
     "metadata": {},
     "output_type": "execute_result"
    }
   ],
   "source": [
    "notas.describe()"
   ]
  },
  {
   "cell_type": "markdown",
   "metadata": {},
   "source": [
    "## DataFrame"
   ]
  },
  {
   "cell_type": "markdown",
   "metadata": {},
   "source": [
    "É uma estrutura de dados bidimensional, como uma planilha. "
   ]
  },
  {
   "cell_type": "code",
   "execution_count": 9,
   "metadata": {},
   "outputs": [
    {
     "data": {
      "text/html": [
       "<div>\n",
       "<style scoped>\n",
       "    .dataframe tbody tr th:only-of-type {\n",
       "        vertical-align: middle;\n",
       "    }\n",
       "\n",
       "    .dataframe tbody tr th {\n",
       "        vertical-align: top;\n",
       "    }\n",
       "\n",
       "    .dataframe thead th {\n",
       "        text-align: right;\n",
       "    }\n",
       "</style>\n",
       "<table border=\"1\" class=\"dataframe\">\n",
       "  <thead>\n",
       "    <tr style=\"text-align: right;\">\n",
       "      <th></th>\n",
       "      <th>Aluno</th>\n",
       "      <th>Faltas</th>\n",
       "      <th>Prova</th>\n",
       "      <th>Seminário</th>\n",
       "    </tr>\n",
       "  </thead>\n",
       "  <tbody>\n",
       "    <tr>\n",
       "      <th>0</th>\n",
       "      <td>João</td>\n",
       "      <td>3</td>\n",
       "      <td>2</td>\n",
       "      <td>8.5</td>\n",
       "    </tr>\n",
       "    <tr>\n",
       "      <th>1</th>\n",
       "      <td>Aline</td>\n",
       "      <td>4</td>\n",
       "      <td>7</td>\n",
       "      <td>7.5</td>\n",
       "    </tr>\n",
       "    <tr>\n",
       "      <th>2</th>\n",
       "      <td>Carlos</td>\n",
       "      <td>2</td>\n",
       "      <td>5</td>\n",
       "      <td>9.0</td>\n",
       "    </tr>\n",
       "    <tr>\n",
       "      <th>3</th>\n",
       "      <td>Julia</td>\n",
       "      <td>1</td>\n",
       "      <td>10</td>\n",
       "      <td>7.5</td>\n",
       "    </tr>\n",
       "    <tr>\n",
       "      <th>4</th>\n",
       "      <td>Pedro</td>\n",
       "      <td>4</td>\n",
       "      <td>6</td>\n",
       "      <td>8.0</td>\n",
       "    </tr>\n",
       "  </tbody>\n",
       "</table>\n",
       "</div>"
      ],
      "text/plain": [
       "    Aluno  Faltas  Prova  Seminário\n",
       "0    João       3      2        8.5\n",
       "1   Aline       4      7        7.5\n",
       "2  Carlos       2      5        9.0\n",
       "3   Julia       1     10        7.5\n",
       "4   Pedro       4      6        8.0"
      ]
     },
     "execution_count": 9,
     "metadata": {},
     "output_type": "execute_result"
    }
   ],
   "source": [
    "df = pd.DataFrame({'Aluno' : [\"João\", \"Aline\", \"Carlos\", \"Julia\", \"Pedro\"],\n",
    "                   'Faltas' : [3,4,2,1,4],\n",
    "                   'Prova' : [2,7,5,10,6],\n",
    "                   'Seminário': [8.5,7.5,9.0,7.5,8.0]})\n",
    "df"
   ]
  },
  {
   "cell_type": "markdown",
   "metadata": {},
   "source": [
    "- Tipos de dados:"
   ]
  },
  {
   "cell_type": "code",
   "execution_count": 10,
   "metadata": {},
   "outputs": [
    {
     "data": {
      "text/plain": [
       "Aluno         object\n",
       "Faltas         int64\n",
       "Prova          int64\n",
       "Seminário    float64\n",
       "dtype: object"
      ]
     },
     "execution_count": 10,
     "metadata": {},
     "output_type": "execute_result"
    }
   ],
   "source": [
    "df.dtypes"
   ]
  },
  {
   "cell_type": "markdown",
   "metadata": {},
   "source": [
    "- Remover Linhas e Colunas:"
   ]
  },
  {
   "cell_type": "code",
   "execution_count": 61,
   "metadata": {},
   "outputs": [
    {
     "data": {
      "text/html": [
       "<div>\n",
       "<style scoped>\n",
       "    .dataframe tbody tr th:only-of-type {\n",
       "        vertical-align: middle;\n",
       "    }\n",
       "\n",
       "    .dataframe tbody tr th {\n",
       "        vertical-align: top;\n",
       "    }\n",
       "\n",
       "    .dataframe thead th {\n",
       "        text-align: right;\n",
       "    }\n",
       "</style>\n",
       "<table border=\"1\" class=\"dataframe\">\n",
       "  <thead>\n",
       "    <tr style=\"text-align: right;\">\n",
       "      <th></th>\n",
       "      <th>Aluno</th>\n",
       "      <th>Faltas</th>\n",
       "      <th>Prova</th>\n",
       "      <th>Seminário</th>\n",
       "    </tr>\n",
       "  </thead>\n",
       "  <tbody>\n",
       "    <tr>\n",
       "      <th>0</th>\n",
       "      <td>João</td>\n",
       "      <td>3</td>\n",
       "      <td>2</td>\n",
       "      <td>8.5</td>\n",
       "    </tr>\n",
       "    <tr>\n",
       "      <th>2</th>\n",
       "      <td>Carlos</td>\n",
       "      <td>2</td>\n",
       "      <td>5</td>\n",
       "      <td>9.0</td>\n",
       "    </tr>\n",
       "    <tr>\n",
       "      <th>3</th>\n",
       "      <td>Julia</td>\n",
       "      <td>1</td>\n",
       "      <td>10</td>\n",
       "      <td>7.5</td>\n",
       "    </tr>\n",
       "    <tr>\n",
       "      <th>4</th>\n",
       "      <td>Pedro</td>\n",
       "      <td>4</td>\n",
       "      <td>6</td>\n",
       "      <td>8.0</td>\n",
       "    </tr>\n",
       "  </tbody>\n",
       "</table>\n",
       "</div>"
      ],
      "text/plain": [
       "    Aluno  Faltas  Prova  Seminário\n",
       "0    João       3      2        8.5\n",
       "2  Carlos       2      5        9.0\n",
       "3   Julia       1     10        7.5\n",
       "4   Pedro       4      6        8.0"
      ]
     },
     "execution_count": 61,
     "metadata": {},
     "output_type": "execute_result"
    }
   ],
   "source": [
    "#Removendo uma linha \n",
    "df.drop([1])"
   ]
  },
  {
   "cell_type": "code",
   "execution_count": 59,
   "metadata": {},
   "outputs": [
    {
     "data": {
      "text/html": [
       "<div>\n",
       "<style scoped>\n",
       "    .dataframe tbody tr th:only-of-type {\n",
       "        vertical-align: middle;\n",
       "    }\n",
       "\n",
       "    .dataframe tbody tr th {\n",
       "        vertical-align: top;\n",
       "    }\n",
       "\n",
       "    .dataframe thead th {\n",
       "        text-align: right;\n",
       "    }\n",
       "</style>\n",
       "<table border=\"1\" class=\"dataframe\">\n",
       "  <thead>\n",
       "    <tr style=\"text-align: right;\">\n",
       "      <th></th>\n",
       "      <th>Aluno</th>\n",
       "      <th>Prova</th>\n",
       "      <th>Seminário</th>\n",
       "    </tr>\n",
       "  </thead>\n",
       "  <tbody>\n",
       "    <tr>\n",
       "      <th>0</th>\n",
       "      <td>João</td>\n",
       "      <td>2</td>\n",
       "      <td>8.5</td>\n",
       "    </tr>\n",
       "    <tr>\n",
       "      <th>1</th>\n",
       "      <td>Aline</td>\n",
       "      <td>7</td>\n",
       "      <td>7.5</td>\n",
       "    </tr>\n",
       "    <tr>\n",
       "      <th>2</th>\n",
       "      <td>Carlos</td>\n",
       "      <td>5</td>\n",
       "      <td>9.0</td>\n",
       "    </tr>\n",
       "    <tr>\n",
       "      <th>3</th>\n",
       "      <td>Julia</td>\n",
       "      <td>10</td>\n",
       "      <td>7.5</td>\n",
       "    </tr>\n",
       "    <tr>\n",
       "      <th>4</th>\n",
       "      <td>Pedro</td>\n",
       "      <td>6</td>\n",
       "      <td>8.0</td>\n",
       "    </tr>\n",
       "  </tbody>\n",
       "</table>\n",
       "</div>"
      ],
      "text/plain": [
       "    Aluno  Prova  Seminário\n",
       "0    João      2        8.5\n",
       "1   Aline      7        7.5\n",
       "2  Carlos      5        9.0\n",
       "3   Julia     10        7.5\n",
       "4   Pedro      6        8.0"
      ]
     },
     "execution_count": 59,
     "metadata": {},
     "output_type": "execute_result"
    }
   ],
   "source": [
    "#Removendo uma coluna\n",
    "df.drop('Faltas', axis=1)"
   ]
  },
  {
   "cell_type": "markdown",
   "metadata": {},
   "source": [
    "Importante notar que o DataFrame original continua o mesmo:"
   ]
  },
  {
   "cell_type": "code",
   "execution_count": 60,
   "metadata": {},
   "outputs": [
    {
     "data": {
      "text/html": [
       "<div>\n",
       "<style scoped>\n",
       "    .dataframe tbody tr th:only-of-type {\n",
       "        vertical-align: middle;\n",
       "    }\n",
       "\n",
       "    .dataframe tbody tr th {\n",
       "        vertical-align: top;\n",
       "    }\n",
       "\n",
       "    .dataframe thead th {\n",
       "        text-align: right;\n",
       "    }\n",
       "</style>\n",
       "<table border=\"1\" class=\"dataframe\">\n",
       "  <thead>\n",
       "    <tr style=\"text-align: right;\">\n",
       "      <th></th>\n",
       "      <th>Aluno</th>\n",
       "      <th>Faltas</th>\n",
       "      <th>Prova</th>\n",
       "      <th>Seminário</th>\n",
       "    </tr>\n",
       "  </thead>\n",
       "  <tbody>\n",
       "    <tr>\n",
       "      <th>0</th>\n",
       "      <td>João</td>\n",
       "      <td>3</td>\n",
       "      <td>2</td>\n",
       "      <td>8.5</td>\n",
       "    </tr>\n",
       "    <tr>\n",
       "      <th>1</th>\n",
       "      <td>Aline</td>\n",
       "      <td>4</td>\n",
       "      <td>7</td>\n",
       "      <td>7.5</td>\n",
       "    </tr>\n",
       "    <tr>\n",
       "      <th>2</th>\n",
       "      <td>Carlos</td>\n",
       "      <td>2</td>\n",
       "      <td>5</td>\n",
       "      <td>9.0</td>\n",
       "    </tr>\n",
       "    <tr>\n",
       "      <th>3</th>\n",
       "      <td>Julia</td>\n",
       "      <td>1</td>\n",
       "      <td>10</td>\n",
       "      <td>7.5</td>\n",
       "    </tr>\n",
       "    <tr>\n",
       "      <th>4</th>\n",
       "      <td>Pedro</td>\n",
       "      <td>4</td>\n",
       "      <td>6</td>\n",
       "      <td>8.0</td>\n",
       "    </tr>\n",
       "  </tbody>\n",
       "</table>\n",
       "</div>"
      ],
      "text/plain": [
       "    Aluno  Faltas  Prova  Seminário\n",
       "0    João       3      2        8.5\n",
       "1   Aline       4      7        7.5\n",
       "2  Carlos       2      5        9.0\n",
       "3   Julia       1     10        7.5\n",
       "4   Pedro       4      6        8.0"
      ]
     },
     "execution_count": 60,
     "metadata": {},
     "output_type": "execute_result"
    }
   ],
   "source": [
    "df"
   ]
  },
  {
   "cell_type": "markdown",
   "metadata": {},
   "source": [
    "- Coletar dados sobre o DataFrame:"
   ]
  },
  {
   "cell_type": "code",
   "execution_count": 62,
   "metadata": {},
   "outputs": [
    {
     "data": {
      "text/plain": [
       "(5, 4)"
      ]
     },
     "execution_count": 62,
     "metadata": {},
     "output_type": "execute_result"
    }
   ],
   "source": [
    "#Quantidade de linhas e colunas\n",
    "df.shape\n",
    "#(linhas,colunas)"
   ]
  },
  {
   "cell_type": "markdown",
   "metadata": {},
   "source": [
    "- Criando uma nova Coluna:"
   ]
  },
  {
   "cell_type": "code",
   "execution_count": 63,
   "metadata": {},
   "outputs": [],
   "source": [
    "df['Trabalho'] = 0"
   ]
  },
  {
   "cell_type": "code",
   "execution_count": 64,
   "metadata": {},
   "outputs": [
    {
     "data": {
      "text/html": [
       "<div>\n",
       "<style scoped>\n",
       "    .dataframe tbody tr th:only-of-type {\n",
       "        vertical-align: middle;\n",
       "    }\n",
       "\n",
       "    .dataframe tbody tr th {\n",
       "        vertical-align: top;\n",
       "    }\n",
       "\n",
       "    .dataframe thead th {\n",
       "        text-align: right;\n",
       "    }\n",
       "</style>\n",
       "<table border=\"1\" class=\"dataframe\">\n",
       "  <thead>\n",
       "    <tr style=\"text-align: right;\">\n",
       "      <th></th>\n",
       "      <th>Aluno</th>\n",
       "      <th>Faltas</th>\n",
       "      <th>Prova</th>\n",
       "      <th>Seminário</th>\n",
       "      <th>Trabalho</th>\n",
       "    </tr>\n",
       "  </thead>\n",
       "  <tbody>\n",
       "    <tr>\n",
       "      <th>0</th>\n",
       "      <td>João</td>\n",
       "      <td>3</td>\n",
       "      <td>2</td>\n",
       "      <td>8.5</td>\n",
       "      <td>0</td>\n",
       "    </tr>\n",
       "    <tr>\n",
       "      <th>1</th>\n",
       "      <td>Aline</td>\n",
       "      <td>4</td>\n",
       "      <td>7</td>\n",
       "      <td>7.5</td>\n",
       "      <td>0</td>\n",
       "    </tr>\n",
       "    <tr>\n",
       "      <th>2</th>\n",
       "      <td>Carlos</td>\n",
       "      <td>2</td>\n",
       "      <td>5</td>\n",
       "      <td>9.0</td>\n",
       "      <td>0</td>\n",
       "    </tr>\n",
       "    <tr>\n",
       "      <th>3</th>\n",
       "      <td>Julia</td>\n",
       "      <td>1</td>\n",
       "      <td>10</td>\n",
       "      <td>7.5</td>\n",
       "      <td>0</td>\n",
       "    </tr>\n",
       "    <tr>\n",
       "      <th>4</th>\n",
       "      <td>Pedro</td>\n",
       "      <td>4</td>\n",
       "      <td>6</td>\n",
       "      <td>8.0</td>\n",
       "      <td>0</td>\n",
       "    </tr>\n",
       "  </tbody>\n",
       "</table>\n",
       "</div>"
      ],
      "text/plain": [
       "    Aluno  Faltas  Prova  Seminário  Trabalho\n",
       "0    João       3      2        8.5         0\n",
       "1   Aline       4      7        7.5         0\n",
       "2  Carlos       2      5        9.0         0\n",
       "3   Julia       1     10        7.5         0\n",
       "4   Pedro       4      6        8.0         0"
      ]
     },
     "execution_count": 64,
     "metadata": {},
     "output_type": "execute_result"
    }
   ],
   "source": [
    "df"
   ]
  },
  {
   "cell_type": "markdown",
   "metadata": {},
   "source": [
    "- Acessar colunas:"
   ]
  },
  {
   "cell_type": "code",
   "execution_count": 11,
   "metadata": {},
   "outputs": [
    {
     "data": {
      "text/plain": [
       "Index(['Aluno', 'Faltas', 'Prova', 'Seminário'], dtype='object')"
      ]
     },
     "execution_count": 11,
     "metadata": {},
     "output_type": "execute_result"
    }
   ],
   "source": [
    "df.columns"
   ]
  },
  {
   "cell_type": "markdown",
   "metadata": {},
   "source": [
    "É possivel acessar as informações da coluna buscando pelo indice:"
   ]
  },
  {
   "cell_type": "code",
   "execution_count": 12,
   "metadata": {},
   "outputs": [
    {
     "data": {
      "text/plain": [
       "0      João\n",
       "1     Aline\n",
       "2    Carlos\n",
       "3     Julia\n",
       "4     Pedro\n",
       "Name: Aluno, dtype: object"
      ]
     },
     "execution_count": 12,
     "metadata": {},
     "output_type": "execute_result"
    }
   ],
   "source": [
    "df[\"Aluno\"]"
   ]
  },
  {
   "cell_type": "markdown",
   "metadata": {},
   "source": [
    "- Descrição Estatistica:"
   ]
  },
  {
   "cell_type": "code",
   "execution_count": 13,
   "metadata": {},
   "outputs": [
    {
     "data": {
      "text/html": [
       "<div>\n",
       "<style scoped>\n",
       "    .dataframe tbody tr th:only-of-type {\n",
       "        vertical-align: middle;\n",
       "    }\n",
       "\n",
       "    .dataframe tbody tr th {\n",
       "        vertical-align: top;\n",
       "    }\n",
       "\n",
       "    .dataframe thead th {\n",
       "        text-align: right;\n",
       "    }\n",
       "</style>\n",
       "<table border=\"1\" class=\"dataframe\">\n",
       "  <thead>\n",
       "    <tr style=\"text-align: right;\">\n",
       "      <th></th>\n",
       "      <th>Faltas</th>\n",
       "      <th>Prova</th>\n",
       "      <th>Seminário</th>\n",
       "    </tr>\n",
       "  </thead>\n",
       "  <tbody>\n",
       "    <tr>\n",
       "      <th>count</th>\n",
       "      <td>5.00000</td>\n",
       "      <td>5.000000</td>\n",
       "      <td>5.00000</td>\n",
       "    </tr>\n",
       "    <tr>\n",
       "      <th>mean</th>\n",
       "      <td>2.80000</td>\n",
       "      <td>6.000000</td>\n",
       "      <td>8.10000</td>\n",
       "    </tr>\n",
       "    <tr>\n",
       "      <th>std</th>\n",
       "      <td>1.30384</td>\n",
       "      <td>2.915476</td>\n",
       "      <td>0.65192</td>\n",
       "    </tr>\n",
       "    <tr>\n",
       "      <th>min</th>\n",
       "      <td>1.00000</td>\n",
       "      <td>2.000000</td>\n",
       "      <td>7.50000</td>\n",
       "    </tr>\n",
       "    <tr>\n",
       "      <th>25%</th>\n",
       "      <td>2.00000</td>\n",
       "      <td>5.000000</td>\n",
       "      <td>7.50000</td>\n",
       "    </tr>\n",
       "    <tr>\n",
       "      <th>50%</th>\n",
       "      <td>3.00000</td>\n",
       "      <td>6.000000</td>\n",
       "      <td>8.00000</td>\n",
       "    </tr>\n",
       "    <tr>\n",
       "      <th>75%</th>\n",
       "      <td>4.00000</td>\n",
       "      <td>7.000000</td>\n",
       "      <td>8.50000</td>\n",
       "    </tr>\n",
       "    <tr>\n",
       "      <th>max</th>\n",
       "      <td>4.00000</td>\n",
       "      <td>10.000000</td>\n",
       "      <td>9.00000</td>\n",
       "    </tr>\n",
       "  </tbody>\n",
       "</table>\n",
       "</div>"
      ],
      "text/plain": [
       "        Faltas      Prova  Seminário\n",
       "count  5.00000   5.000000    5.00000\n",
       "mean   2.80000   6.000000    8.10000\n",
       "std    1.30384   2.915476    0.65192\n",
       "min    1.00000   2.000000    7.50000\n",
       "25%    2.00000   5.000000    7.50000\n",
       "50%    3.00000   6.000000    8.00000\n",
       "75%    4.00000   7.000000    8.50000\n",
       "max    4.00000  10.000000    9.00000"
      ]
     },
     "execution_count": 13,
     "metadata": {},
     "output_type": "execute_result"
    }
   ],
   "source": [
    "df.describe()"
   ]
  },
  {
   "cell_type": "markdown",
   "metadata": {},
   "source": [
    "- Ordenar em ordem decrescente:"
   ]
  },
  {
   "cell_type": "code",
   "execution_count": 82,
   "metadata": {},
   "outputs": [
    {
     "data": {
      "text/html": [
       "<div>\n",
       "<style scoped>\n",
       "    .dataframe tbody tr th:only-of-type {\n",
       "        vertical-align: middle;\n",
       "    }\n",
       "\n",
       "    .dataframe tbody tr th {\n",
       "        vertical-align: top;\n",
       "    }\n",
       "\n",
       "    .dataframe thead th {\n",
       "        text-align: right;\n",
       "    }\n",
       "</style>\n",
       "<table border=\"1\" class=\"dataframe\">\n",
       "  <thead>\n",
       "    <tr style=\"text-align: right;\">\n",
       "      <th></th>\n",
       "      <th>Aluno</th>\n",
       "      <th>Faltas</th>\n",
       "      <th>Prova</th>\n",
       "      <th>Seminário</th>\n",
       "      <th>Trabalho</th>\n",
       "    </tr>\n",
       "  </thead>\n",
       "  <tbody>\n",
       "    <tr>\n",
       "      <th>3</th>\n",
       "      <td>Julia</td>\n",
       "      <td>1</td>\n",
       "      <td>10</td>\n",
       "      <td>7.5</td>\n",
       "      <td>0</td>\n",
       "    </tr>\n",
       "    <tr>\n",
       "      <th>1</th>\n",
       "      <td>Aline</td>\n",
       "      <td>4</td>\n",
       "      <td>7</td>\n",
       "      <td>7.5</td>\n",
       "      <td>0</td>\n",
       "    </tr>\n",
       "    <tr>\n",
       "      <th>4</th>\n",
       "      <td>Pedro</td>\n",
       "      <td>4</td>\n",
       "      <td>6</td>\n",
       "      <td>8.0</td>\n",
       "      <td>0</td>\n",
       "    </tr>\n",
       "    <tr>\n",
       "      <th>2</th>\n",
       "      <td>Carlos</td>\n",
       "      <td>2</td>\n",
       "      <td>5</td>\n",
       "      <td>9.0</td>\n",
       "      <td>0</td>\n",
       "    </tr>\n",
       "    <tr>\n",
       "      <th>0</th>\n",
       "      <td>João</td>\n",
       "      <td>3</td>\n",
       "      <td>2</td>\n",
       "      <td>8.5</td>\n",
       "      <td>0</td>\n",
       "    </tr>\n",
       "  </tbody>\n",
       "</table>\n",
       "</div>"
      ],
      "text/plain": [
       "    Aluno  Faltas  Prova  Seminário  Trabalho\n",
       "3   Julia       1     10        7.5         0\n",
       "1   Aline       4      7        7.5         0\n",
       "4   Pedro       4      6        8.0         0\n",
       "2  Carlos       2      5        9.0         0\n",
       "0    João       3      2        8.5         0"
      ]
     },
     "execution_count": 82,
     "metadata": {},
     "output_type": "execute_result"
    }
   ],
   "source": [
    "df.sort_values(['Prova'], ascending=False)"
   ]
  },
  {
   "cell_type": "markdown",
   "metadata": {},
   "source": [
    "- Selecionar um elemento:"
   ]
  },
  {
   "cell_type": "markdown",
   "metadata": {},
   "source": [
    "Seleção de uma linha ou um celula:"
   ]
  },
  {
   "cell_type": "code",
   "execution_count": 15,
   "metadata": {},
   "outputs": [
    {
     "data": {
      "text/plain": [
       "Aluno        Carlos\n",
       "Faltas            2\n",
       "Prova             5\n",
       "Seminário         9\n",
       "Name: 2, dtype: object"
      ]
     },
     "execution_count": 15,
     "metadata": {},
     "output_type": "execute_result"
    }
   ],
   "source": [
    "df.loc[2]"
   ]
  },
  {
   "cell_type": "markdown",
   "metadata": {},
   "source": [
    "Seleção por critérios condicionais:"
   ]
  },
  {
   "cell_type": "code",
   "execution_count": 16,
   "metadata": {
    "scrolled": true
   },
   "outputs": [
    {
     "data": {
      "text/html": [
       "<div>\n",
       "<style scoped>\n",
       "    .dataframe tbody tr th:only-of-type {\n",
       "        vertical-align: middle;\n",
       "    }\n",
       "\n",
       "    .dataframe tbody tr th {\n",
       "        vertical-align: top;\n",
       "    }\n",
       "\n",
       "    .dataframe thead th {\n",
       "        text-align: right;\n",
       "    }\n",
       "</style>\n",
       "<table border=\"1\" class=\"dataframe\">\n",
       "  <thead>\n",
       "    <tr style=\"text-align: right;\">\n",
       "      <th></th>\n",
       "      <th>Aluno</th>\n",
       "      <th>Faltas</th>\n",
       "      <th>Prova</th>\n",
       "      <th>Seminário</th>\n",
       "    </tr>\n",
       "  </thead>\n",
       "  <tbody>\n",
       "    <tr>\n",
       "      <th>0</th>\n",
       "      <td>João</td>\n",
       "      <td>3</td>\n",
       "      <td>2</td>\n",
       "      <td>8.5</td>\n",
       "    </tr>\n",
       "    <tr>\n",
       "      <th>2</th>\n",
       "      <td>Carlos</td>\n",
       "      <td>2</td>\n",
       "      <td>5</td>\n",
       "      <td>9.0</td>\n",
       "    </tr>\n",
       "  </tbody>\n",
       "</table>\n",
       "</div>"
      ],
      "text/plain": [
       "    Aluno  Faltas  Prova  Seminário\n",
       "0    João       3      2        8.5\n",
       "2  Carlos       2      5        9.0"
      ]
     },
     "execution_count": 16,
     "metadata": {},
     "output_type": "execute_result"
    }
   ],
   "source": [
    "#Pegar valor maior\n",
    "df[df[\"Seminário\"]>8]"
   ]
  },
  {
   "cell_type": "code",
   "execution_count": 90,
   "metadata": {},
   "outputs": [
    {
     "data": {
      "text/html": [
       "<div>\n",
       "<style scoped>\n",
       "    .dataframe tbody tr th:only-of-type {\n",
       "        vertical-align: middle;\n",
       "    }\n",
       "\n",
       "    .dataframe tbody tr th {\n",
       "        vertical-align: top;\n",
       "    }\n",
       "\n",
       "    .dataframe thead th {\n",
       "        text-align: right;\n",
       "    }\n",
       "</style>\n",
       "<table border=\"1\" class=\"dataframe\">\n",
       "  <thead>\n",
       "    <tr style=\"text-align: right;\">\n",
       "      <th></th>\n",
       "      <th>Aluno</th>\n",
       "      <th>Faltas</th>\n",
       "      <th>Prova</th>\n",
       "      <th>Seminário</th>\n",
       "      <th>Trabalho</th>\n",
       "    </tr>\n",
       "  </thead>\n",
       "  <tbody>\n",
       "    <tr>\n",
       "      <th>0</th>\n",
       "      <td>João</td>\n",
       "      <td>3</td>\n",
       "      <td>2</td>\n",
       "      <td>8.5</td>\n",
       "      <td>0</td>\n",
       "    </tr>\n",
       "    <tr>\n",
       "      <th>3</th>\n",
       "      <td>Julia</td>\n",
       "      <td>1</td>\n",
       "      <td>10</td>\n",
       "      <td>7.5</td>\n",
       "      <td>0</td>\n",
       "    </tr>\n",
       "    <tr>\n",
       "      <th>4</th>\n",
       "      <td>Pedro</td>\n",
       "      <td>4</td>\n",
       "      <td>6</td>\n",
       "      <td>8.0</td>\n",
       "      <td>0</td>\n",
       "    </tr>\n",
       "  </tbody>\n",
       "</table>\n",
       "</div>"
      ],
      "text/plain": [
       "   Aluno  Faltas  Prova  Seminário  Trabalho\n",
       "0   João       3      2        8.5         0\n",
       "3  Julia       1     10        7.5         0\n",
       "4  Pedro       4      6        8.0         0"
      ]
     },
     "execution_count": 90,
     "metadata": {},
     "output_type": "execute_result"
    }
   ],
   "source": [
    "#Valores Pares\n",
    "df[df['Prova'] % 2 == 0]"
   ]
  },
  {
   "cell_type": "markdown",
   "metadata": {},
   "source": [
    "- Resumo dos dados:"
   ]
  },
  {
   "cell_type": "code",
   "execution_count": 66,
   "metadata": {},
   "outputs": [
    {
     "data": {
      "text/plain": [
       "Aluno        JoãoAlineCarlosJuliaPedro\n",
       "Faltas                              14\n",
       "Prova                               30\n",
       "Seminário                         40.5\n",
       "Trabalho                             0\n",
       "dtype: object"
      ]
     },
     "execution_count": 66,
     "metadata": {},
     "output_type": "execute_result"
    }
   ],
   "source": [
    "#Soma os valores\n",
    "df.sum()"
   ]
  },
  {
   "cell_type": "code",
   "execution_count": 67,
   "metadata": {},
   "outputs": [
    {
     "data": {
      "text/plain": [
       "Aluno        Aline\n",
       "Faltas           1\n",
       "Prova            2\n",
       "Seminário      7.5\n",
       "Trabalho         0\n",
       "dtype: object"
      ]
     },
     "execution_count": 67,
     "metadata": {},
     "output_type": "execute_result"
    }
   ],
   "source": [
    "#Menor Valor\n",
    "df.min()"
   ]
  },
  {
   "cell_type": "code",
   "execution_count": 68,
   "metadata": {},
   "outputs": [
    {
     "data": {
      "text/plain": [
       "Aluno        Pedro\n",
       "Faltas           4\n",
       "Prova           10\n",
       "Seminário        9\n",
       "Trabalho         0\n",
       "dtype: object"
      ]
     },
     "execution_count": 68,
     "metadata": {},
     "output_type": "execute_result"
    }
   ],
   "source": [
    "#Maior valor\n",
    "df.max()"
   ]
  },
  {
   "cell_type": "markdown",
   "metadata": {},
   "source": [
    "*Observação:* Todos os metódos dessa sessão são aplicados a uma coluna do data frame, ex: **df[\"Seminário\"].max()**"
   ]
  },
  {
   "cell_type": "markdown",
   "metadata": {},
   "source": [
    "## Leitura de Dados"
   ]
  },
  {
   "cell_type": "markdown",
   "metadata": {},
   "source": [
    "Para o mundo real, onde os dados abragem mais que alguns dados, precisamos saber como importar os dados de outros lugares. Para isso, vamos precisar de algumas funções:"
   ]
  },
  {
   "cell_type": "markdown",
   "metadata": {},
   "source": [
    "- Valores separados por virgulas (CSV):"
   ]
  },
  {
   "cell_type": "markdown",
   "metadata": {},
   "source": [
    "            pd.read_csv"
   ]
  },
  {
   "cell_type": "markdown",
   "metadata": {},
   "source": [
    "- Arquivo Excel(XLSX):"
   ]
  },
  {
   "cell_type": "markdown",
   "metadata": {},
   "source": [
    "            pd.read_xlsx"
   ]
  },
  {
   "cell_type": "markdown",
   "metadata": {},
   "source": [
    "- Website:"
   ]
  },
  {
   "cell_type": "markdown",
   "metadata": {},
   "source": [
    "            pd.read_html"
   ]
  },
  {
   "cell_type": "markdown",
   "metadata": {},
   "source": [
    "Para usar um exemplo na prática, usamos um dataset pego no repositório de dados do governo sobre auxilio a estudantes:"
   ]
  },
  {
   "cell_type": "code",
   "execution_count": 34,
   "metadata": {},
   "outputs": [],
   "source": [
    "df1 = pd.read_csv('Desktop/data/sae-sub-programas.csv')"
   ]
  },
  {
   "cell_type": "code",
   "execution_count": 35,
   "metadata": {},
   "outputs": [
    {
     "data": {
      "text/html": [
       "<div>\n",
       "<style scoped>\n",
       "    .dataframe tbody tr th:only-of-type {\n",
       "        vertical-align: middle;\n",
       "    }\n",
       "\n",
       "    .dataframe tbody tr th {\n",
       "        vertical-align: top;\n",
       "    }\n",
       "\n",
       "    .dataframe thead th {\n",
       "        text-align: right;\n",
       "    }\n",
       "</style>\n",
       "<table border=\"1\" class=\"dataframe\">\n",
       "  <thead>\n",
       "    <tr style=\"text-align: right;\">\n",
       "      <th></th>\n",
       "      <th>id_subprograma</th>\n",
       "      <th>ds_subprograma</th>\n",
       "      <th>fl_parcial</th>\n",
       "      <th>fl_pergunta_quantidade</th>\n",
       "      <th>ds_pergunta_quantidade</th>\n",
       "      <th>ds_categoria</th>\n",
       "    </tr>\n",
       "  </thead>\n",
       "  <tbody>\n",
       "    <tr>\n",
       "      <th>0</th>\n",
       "      <td>7</td>\n",
       "      <td>Auxílio Alimentação</td>\n",
       "      <td>S</td>\n",
       "      <td>S</td>\n",
       "      <td>Quantos tickets alimentação você necessita por...</td>\n",
       "      <td>Subprograma</td>\n",
       "    </tr>\n",
       "    <tr>\n",
       "      <th>1</th>\n",
       "      <td>20</td>\n",
       "      <td>Auxílio Alimentação Pecuniário (SAP, SVP, SLS)</td>\n",
       "      <td>N</td>\n",
       "      <td>N</td>\n",
       "      <td>NaN</td>\n",
       "      <td>Subprograma</td>\n",
       "    </tr>\n",
       "    <tr>\n",
       "      <th>2</th>\n",
       "      <td>10</td>\n",
       "      <td>Auxílio Infância</td>\n",
       "      <td>N</td>\n",
       "      <td>S</td>\n",
       "      <td>Quantos filhos/as em idade para recebimento do...</td>\n",
       "      <td>Bolsa</td>\n",
       "    </tr>\n",
       "    <tr>\n",
       "      <th>3</th>\n",
       "      <td>23</td>\n",
       "      <td>Auxílio Instalação</td>\n",
       "      <td>N</td>\n",
       "      <td>N</td>\n",
       "      <td>NaN</td>\n",
       "      <td>Subprograma</td>\n",
       "    </tr>\n",
       "    <tr>\n",
       "      <th>4</th>\n",
       "      <td>5</td>\n",
       "      <td>Auxílio Moradia</td>\n",
       "      <td>N</td>\n",
       "      <td>N</td>\n",
       "      <td>NaN</td>\n",
       "      <td>Subprograma</td>\n",
       "    </tr>\n",
       "    <tr>\n",
       "      <th>5</th>\n",
       "      <td>13</td>\n",
       "      <td>Auxílio Moradia - Alojamento Provisório</td>\n",
       "      <td>N</td>\n",
       "      <td>N</td>\n",
       "      <td>NaN</td>\n",
       "      <td>Subprograma</td>\n",
       "    </tr>\n",
       "    <tr>\n",
       "      <th>6</th>\n",
       "      <td>12</td>\n",
       "      <td>Auxílio Moradia - CEU</td>\n",
       "      <td>N</td>\n",
       "      <td>N</td>\n",
       "      <td>NaN</td>\n",
       "      <td>Subprograma</td>\n",
       "    </tr>\n",
       "    <tr>\n",
       "      <th>7</th>\n",
       "      <td>25</td>\n",
       "      <td>Auxílio Moradia Campus Rio Grande</td>\n",
       "      <td>N</td>\n",
       "      <td>N</td>\n",
       "      <td>NaN</td>\n",
       "      <td>Subprograma</td>\n",
       "    </tr>\n",
       "    <tr>\n",
       "      <th>8</th>\n",
       "      <td>16</td>\n",
       "      <td>Auxílio Moradia (Campus SLS, SAP, SVP)</td>\n",
       "      <td>N</td>\n",
       "      <td>N</td>\n",
       "      <td>NaN</td>\n",
       "      <td>Subprograma</td>\n",
       "    </tr>\n",
       "    <tr>\n",
       "      <th>9</th>\n",
       "      <td>17</td>\n",
       "      <td>Auxílio Moradia (Campus SLS, SVP)</td>\n",
       "      <td>N</td>\n",
       "      <td>N</td>\n",
       "      <td>NaN</td>\n",
       "      <td>Subprograma</td>\n",
       "    </tr>\n",
       "    <tr>\n",
       "      <th>10</th>\n",
       "      <td>18</td>\n",
       "      <td>Auxílio Permanência</td>\n",
       "      <td>N</td>\n",
       "      <td>N</td>\n",
       "      <td>NaN</td>\n",
       "      <td>Subprograma</td>\n",
       "    </tr>\n",
       "    <tr>\n",
       "      <th>11</th>\n",
       "      <td>6</td>\n",
       "      <td>Auxílio Transporte</td>\n",
       "      <td>N</td>\n",
       "      <td>S</td>\n",
       "      <td>Quantos vales transporte vocês necessita por mês?</td>\n",
       "      <td>Subprograma</td>\n",
       "    </tr>\n",
       "    <tr>\n",
       "      <th>12</th>\n",
       "      <td>21</td>\n",
       "      <td>Auxílio Transporte Pecuniário (SAP, SVP, SLS)</td>\n",
       "      <td>N</td>\n",
       "      <td>N</td>\n",
       "      <td>NaN</td>\n",
       "      <td>Subprograma</td>\n",
       "    </tr>\n",
       "    <tr>\n",
       "      <th>13</th>\n",
       "      <td>19</td>\n",
       "      <td>Bolsa de Inserção Acadêmica</td>\n",
       "      <td>N</td>\n",
       "      <td>N</td>\n",
       "      <td>NaN</td>\n",
       "      <td>Bolsa</td>\n",
       "    </tr>\n",
       "    <tr>\n",
       "      <th>14</th>\n",
       "      <td>9</td>\n",
       "      <td>Bolsa Permanência</td>\n",
       "      <td>N</td>\n",
       "      <td>N</td>\n",
       "      <td>NaN</td>\n",
       "      <td>Bolsa</td>\n",
       "    </tr>\n",
       "    <tr>\n",
       "      <th>15</th>\n",
       "      <td>24</td>\n",
       "      <td>Kit Pedagógico</td>\n",
       "      <td>N</td>\n",
       "      <td>N</td>\n",
       "      <td>NaN</td>\n",
       "      <td>Subprograma</td>\n",
       "    </tr>\n",
       "  </tbody>\n",
       "</table>\n",
       "</div>"
      ],
      "text/plain": [
       "    id_subprograma                                  ds_subprograma fl_parcial  \\\n",
       "0                7                             Auxílio Alimentação          S   \n",
       "1               20  Auxílio Alimentação Pecuniário (SAP, SVP, SLS)          N   \n",
       "2               10                                Auxílio Infância          N   \n",
       "3               23                              Auxílio Instalação          N   \n",
       "4                5                                 Auxílio Moradia          N   \n",
       "5               13         Auxílio Moradia - Alojamento Provisório          N   \n",
       "6               12                           Auxílio Moradia - CEU          N   \n",
       "7               25               Auxílio Moradia Campus Rio Grande          N   \n",
       "8               16          Auxílio Moradia (Campus SLS, SAP, SVP)          N   \n",
       "9               17               Auxílio Moradia (Campus SLS, SVP)          N   \n",
       "10              18                             Auxílio Permanência          N   \n",
       "11               6                              Auxílio Transporte          N   \n",
       "12              21   Auxílio Transporte Pecuniário (SAP, SVP, SLS)          N   \n",
       "13              19                     Bolsa de Inserção Acadêmica          N   \n",
       "14               9                               Bolsa Permanência          N   \n",
       "15              24                                  Kit Pedagógico          N   \n",
       "\n",
       "   fl_pergunta_quantidade                             ds_pergunta_quantidade  \\\n",
       "0                       S  Quantos tickets alimentação você necessita por...   \n",
       "1                       N                                                NaN   \n",
       "2                       S  Quantos filhos/as em idade para recebimento do...   \n",
       "3                       N                                                NaN   \n",
       "4                       N                                                NaN   \n",
       "5                       N                                                NaN   \n",
       "6                       N                                                NaN   \n",
       "7                       N                                                NaN   \n",
       "8                       N                                                NaN   \n",
       "9                       N                                                NaN   \n",
       "10                      N                                                NaN   \n",
       "11                      S  Quantos vales transporte vocês necessita por mês?   \n",
       "12                      N                                                NaN   \n",
       "13                      N                                                NaN   \n",
       "14                      N                                                NaN   \n",
       "15                      N                                                NaN   \n",
       "\n",
       "   ds_categoria  \n",
       "0   Subprograma  \n",
       "1   Subprograma  \n",
       "2         Bolsa  \n",
       "3   Subprograma  \n",
       "4   Subprograma  \n",
       "5   Subprograma  \n",
       "6   Subprograma  \n",
       "7   Subprograma  \n",
       "8   Subprograma  \n",
       "9   Subprograma  \n",
       "10  Subprograma  \n",
       "11  Subprograma  \n",
       "12  Subprograma  \n",
       "13        Bolsa  \n",
       "14        Bolsa  \n",
       "15  Subprograma  "
      ]
     },
     "execution_count": 35,
     "metadata": {},
     "output_type": "execute_result"
    }
   ],
   "source": [
    "df1"
   ]
  },
  {
   "cell_type": "markdown",
   "metadata": {},
   "source": [
    "## Os primeiros passos para ser um cientista de dados:"
   ]
  },
  {
   "cell_type": "markdown",
   "metadata": {},
   "source": [
    "![Ioda](https://media.giphy.com/media/3ohuAxV0DfcLTxVh6w/giphy.gif)"
   ]
  },
  {
   "cell_type": "markdown",
   "metadata": {},
   "source": [
    "A partir de agora a brincadeira será mais legal, vamos mostrar os primeiros passos para passar de **padawan** para se tornar um **cavaleiro jedi** "
   ]
  },
  {
   "cell_type": "markdown",
   "metadata": {},
   "source": [
    "Os dados geralmente são bem grandes, pra isso usa-se uma função que pega os primeiro elementos do DataFrame, o padrão são os 5 primeiros:"
   ]
  },
  {
   "cell_type": "code",
   "execution_count": 38,
   "metadata": {},
   "outputs": [
    {
     "data": {
      "text/html": [
       "<div>\n",
       "<style scoped>\n",
       "    .dataframe tbody tr th:only-of-type {\n",
       "        vertical-align: middle;\n",
       "    }\n",
       "\n",
       "    .dataframe tbody tr th {\n",
       "        vertical-align: top;\n",
       "    }\n",
       "\n",
       "    .dataframe thead th {\n",
       "        text-align: right;\n",
       "    }\n",
       "</style>\n",
       "<table border=\"1\" class=\"dataframe\">\n",
       "  <thead>\n",
       "    <tr style=\"text-align: right;\">\n",
       "      <th></th>\n",
       "      <th>id_subprograma</th>\n",
       "      <th>ds_subprograma</th>\n",
       "      <th>fl_parcial</th>\n",
       "      <th>fl_pergunta_quantidade</th>\n",
       "      <th>ds_pergunta_quantidade</th>\n",
       "      <th>ds_categoria</th>\n",
       "    </tr>\n",
       "  </thead>\n",
       "  <tbody>\n",
       "    <tr>\n",
       "      <th>0</th>\n",
       "      <td>7</td>\n",
       "      <td>Auxílio Alimentação</td>\n",
       "      <td>S</td>\n",
       "      <td>S</td>\n",
       "      <td>Quantos tickets alimentação você necessita por...</td>\n",
       "      <td>Subprograma</td>\n",
       "    </tr>\n",
       "    <tr>\n",
       "      <th>1</th>\n",
       "      <td>20</td>\n",
       "      <td>Auxílio Alimentação Pecuniário (SAP, SVP, SLS)</td>\n",
       "      <td>N</td>\n",
       "      <td>N</td>\n",
       "      <td>NaN</td>\n",
       "      <td>Subprograma</td>\n",
       "    </tr>\n",
       "    <tr>\n",
       "      <th>2</th>\n",
       "      <td>10</td>\n",
       "      <td>Auxílio Infância</td>\n",
       "      <td>N</td>\n",
       "      <td>S</td>\n",
       "      <td>Quantos filhos/as em idade para recebimento do...</td>\n",
       "      <td>Bolsa</td>\n",
       "    </tr>\n",
       "    <tr>\n",
       "      <th>3</th>\n",
       "      <td>23</td>\n",
       "      <td>Auxílio Instalação</td>\n",
       "      <td>N</td>\n",
       "      <td>N</td>\n",
       "      <td>NaN</td>\n",
       "      <td>Subprograma</td>\n",
       "    </tr>\n",
       "    <tr>\n",
       "      <th>4</th>\n",
       "      <td>5</td>\n",
       "      <td>Auxílio Moradia</td>\n",
       "      <td>N</td>\n",
       "      <td>N</td>\n",
       "      <td>NaN</td>\n",
       "      <td>Subprograma</td>\n",
       "    </tr>\n",
       "    <tr>\n",
       "      <th>5</th>\n",
       "      <td>13</td>\n",
       "      <td>Auxílio Moradia - Alojamento Provisório</td>\n",
       "      <td>N</td>\n",
       "      <td>N</td>\n",
       "      <td>NaN</td>\n",
       "      <td>Subprograma</td>\n",
       "    </tr>\n",
       "    <tr>\n",
       "      <th>6</th>\n",
       "      <td>12</td>\n",
       "      <td>Auxílio Moradia - CEU</td>\n",
       "      <td>N</td>\n",
       "      <td>N</td>\n",
       "      <td>NaN</td>\n",
       "      <td>Subprograma</td>\n",
       "    </tr>\n",
       "    <tr>\n",
       "      <th>7</th>\n",
       "      <td>25</td>\n",
       "      <td>Auxílio Moradia Campus Rio Grande</td>\n",
       "      <td>N</td>\n",
       "      <td>N</td>\n",
       "      <td>NaN</td>\n",
       "      <td>Subprograma</td>\n",
       "    </tr>\n",
       "    <tr>\n",
       "      <th>8</th>\n",
       "      <td>16</td>\n",
       "      <td>Auxílio Moradia (Campus SLS, SAP, SVP)</td>\n",
       "      <td>N</td>\n",
       "      <td>N</td>\n",
       "      <td>NaN</td>\n",
       "      <td>Subprograma</td>\n",
       "    </tr>\n",
       "    <tr>\n",
       "      <th>9</th>\n",
       "      <td>17</td>\n",
       "      <td>Auxílio Moradia (Campus SLS, SVP)</td>\n",
       "      <td>N</td>\n",
       "      <td>N</td>\n",
       "      <td>NaN</td>\n",
       "      <td>Subprograma</td>\n",
       "    </tr>\n",
       "  </tbody>\n",
       "</table>\n",
       "</div>"
      ],
      "text/plain": [
       "   id_subprograma                                  ds_subprograma fl_parcial  \\\n",
       "0               7                             Auxílio Alimentação          S   \n",
       "1              20  Auxílio Alimentação Pecuniário (SAP, SVP, SLS)          N   \n",
       "2              10                                Auxílio Infância          N   \n",
       "3              23                              Auxílio Instalação          N   \n",
       "4               5                                 Auxílio Moradia          N   \n",
       "5              13         Auxílio Moradia - Alojamento Provisório          N   \n",
       "6              12                           Auxílio Moradia - CEU          N   \n",
       "7              25               Auxílio Moradia Campus Rio Grande          N   \n",
       "8              16          Auxílio Moradia (Campus SLS, SAP, SVP)          N   \n",
       "9              17               Auxílio Moradia (Campus SLS, SVP)          N   \n",
       "\n",
       "  fl_pergunta_quantidade                             ds_pergunta_quantidade  \\\n",
       "0                      S  Quantos tickets alimentação você necessita por...   \n",
       "1                      N                                                NaN   \n",
       "2                      S  Quantos filhos/as em idade para recebimento do...   \n",
       "3                      N                                                NaN   \n",
       "4                      N                                                NaN   \n",
       "5                      N                                                NaN   \n",
       "6                      N                                                NaN   \n",
       "7                      N                                                NaN   \n",
       "8                      N                                                NaN   \n",
       "9                      N                                                NaN   \n",
       "\n",
       "  ds_categoria  \n",
       "0  Subprograma  \n",
       "1  Subprograma  \n",
       "2        Bolsa  \n",
       "3  Subprograma  \n",
       "4  Subprograma  \n",
       "5  Subprograma  \n",
       "6  Subprograma  \n",
       "7  Subprograma  \n",
       "8  Subprograma  \n",
       "9  Subprograma  "
      ]
     },
     "execution_count": 38,
     "metadata": {},
     "output_type": "execute_result"
    }
   ],
   "source": [
    "df1.head(10) # o numero dentro do parentese representa o\n",
    "             # de linhas que vai aparecer"
   ]
  },
  {
   "cell_type": "markdown",
   "metadata": {},
   "source": [
    "De forma parecida, tail pega os ultimos elementos do DataFrame:"
   ]
  },
  {
   "cell_type": "code",
   "execution_count": 39,
   "metadata": {},
   "outputs": [
    {
     "data": {
      "text/html": [
       "<div>\n",
       "<style scoped>\n",
       "    .dataframe tbody tr th:only-of-type {\n",
       "        vertical-align: middle;\n",
       "    }\n",
       "\n",
       "    .dataframe tbody tr th {\n",
       "        vertical-align: top;\n",
       "    }\n",
       "\n",
       "    .dataframe thead th {\n",
       "        text-align: right;\n",
       "    }\n",
       "</style>\n",
       "<table border=\"1\" class=\"dataframe\">\n",
       "  <thead>\n",
       "    <tr style=\"text-align: right;\">\n",
       "      <th></th>\n",
       "      <th>id_subprograma</th>\n",
       "      <th>ds_subprograma</th>\n",
       "      <th>fl_parcial</th>\n",
       "      <th>fl_pergunta_quantidade</th>\n",
       "      <th>ds_pergunta_quantidade</th>\n",
       "      <th>ds_categoria</th>\n",
       "    </tr>\n",
       "  </thead>\n",
       "  <tbody>\n",
       "    <tr>\n",
       "      <th>11</th>\n",
       "      <td>6</td>\n",
       "      <td>Auxílio Transporte</td>\n",
       "      <td>N</td>\n",
       "      <td>S</td>\n",
       "      <td>Quantos vales transporte vocês necessita por mês?</td>\n",
       "      <td>Subprograma</td>\n",
       "    </tr>\n",
       "    <tr>\n",
       "      <th>12</th>\n",
       "      <td>21</td>\n",
       "      <td>Auxílio Transporte Pecuniário (SAP, SVP, SLS)</td>\n",
       "      <td>N</td>\n",
       "      <td>N</td>\n",
       "      <td>NaN</td>\n",
       "      <td>Subprograma</td>\n",
       "    </tr>\n",
       "    <tr>\n",
       "      <th>13</th>\n",
       "      <td>19</td>\n",
       "      <td>Bolsa de Inserção Acadêmica</td>\n",
       "      <td>N</td>\n",
       "      <td>N</td>\n",
       "      <td>NaN</td>\n",
       "      <td>Bolsa</td>\n",
       "    </tr>\n",
       "    <tr>\n",
       "      <th>14</th>\n",
       "      <td>9</td>\n",
       "      <td>Bolsa Permanência</td>\n",
       "      <td>N</td>\n",
       "      <td>N</td>\n",
       "      <td>NaN</td>\n",
       "      <td>Bolsa</td>\n",
       "    </tr>\n",
       "    <tr>\n",
       "      <th>15</th>\n",
       "      <td>24</td>\n",
       "      <td>Kit Pedagógico</td>\n",
       "      <td>N</td>\n",
       "      <td>N</td>\n",
       "      <td>NaN</td>\n",
       "      <td>Subprograma</td>\n",
       "    </tr>\n",
       "  </tbody>\n",
       "</table>\n",
       "</div>"
      ],
      "text/plain": [
       "    id_subprograma                                 ds_subprograma fl_parcial  \\\n",
       "11               6                             Auxílio Transporte          N   \n",
       "12              21  Auxílio Transporte Pecuniário (SAP, SVP, SLS)          N   \n",
       "13              19                    Bolsa de Inserção Acadêmica          N   \n",
       "14               9                              Bolsa Permanência          N   \n",
       "15              24                                 Kit Pedagógico          N   \n",
       "\n",
       "   fl_pergunta_quantidade                             ds_pergunta_quantidade  \\\n",
       "11                      S  Quantos vales transporte vocês necessita por mês?   \n",
       "12                      N                                                NaN   \n",
       "13                      N                                                NaN   \n",
       "14                      N                                                NaN   \n",
       "15                      N                                                NaN   \n",
       "\n",
       "   ds_categoria  \n",
       "11  Subprograma  \n",
       "12  Subprograma  \n",
       "13        Bolsa  \n",
       "14        Bolsa  \n",
       "15  Subprograma  "
      ]
     },
     "execution_count": 39,
     "metadata": {},
     "output_type": "execute_result"
    }
   ],
   "source": [
    "df1.tail()"
   ]
  },
  {
   "cell_type": "markdown",
   "metadata": {},
   "source": [
    "## Manipulação de Dados:"
   ]
  },
  {
   "cell_type": "markdown",
   "metadata": {},
   "source": [
    "Para ser um autentico cavaleiro jedi, precisamos funções que nos ajudem a fazer a manipulação dos dados:"
   ]
  },
  {
   "cell_type": "markdown",
   "metadata": {},
   "source": [
    "- Método que lista valores únicos de uma coluna: Usamos o métodos **.unique()** para verificar os elementos diferentes de cada coluna:"
   ]
  },
  {
   "cell_type": "code",
   "execution_count": 40,
   "metadata": {
    "scrolled": true
   },
   "outputs": [
    {
     "data": {
      "text/plain": [
       "array(['Auxílio Alimentação',\n",
       "       'Auxílio Alimentação Pecuniário (SAP, SVP, SLS)',\n",
       "       'Auxílio Infância', 'Auxílio Instalação', 'Auxílio Moradia',\n",
       "       'Auxílio Moradia - Alojamento Provisório', 'Auxílio Moradia - CEU',\n",
       "       'Auxílio Moradia Campus Rio Grande',\n",
       "       'Auxílio Moradia (Campus SLS, SAP, SVP)',\n",
       "       'Auxílio Moradia (Campus SLS, SVP)', 'Auxílio Permanência',\n",
       "       'Auxílio Transporte',\n",
       "       'Auxílio Transporte Pecuniário (SAP, SVP, SLS)',\n",
       "       'Bolsa de Inserção Acadêmica', 'Bolsa Permanência',\n",
       "       'Kit Pedagógico'], dtype=object)"
      ]
     },
     "execution_count": 40,
     "metadata": {},
     "output_type": "execute_result"
    }
   ],
   "source": [
    "df1[\"ds_subprograma\"].unique()"
   ]
  },
  {
   "cell_type": "markdown",
   "metadata": {},
   "source": [
    "- Métodos para contar valores: Podemos querer ver a regularidade dos dados, para isso usaremos a função **.values_counts()**:"
   ]
  },
  {
   "cell_type": "code",
   "execution_count": 42,
   "metadata": {},
   "outputs": [
    {
     "data": {
      "text/plain": [
       "Bolsa de Inserção Acadêmica                       1\n",
       "Auxílio Moradia - CEU                             1\n",
       "Auxílio Moradia (Campus SLS, SAP, SVP)            1\n",
       "Kit Pedagógico                                    1\n",
       "Auxílio Transporte Pecuniário (SAP, SVP, SLS)     1\n",
       "Auxílio Infância                                  1\n",
       "Auxílio Moradia                                   1\n",
       "Auxílio Moradia Campus Rio Grande                 1\n",
       "Auxílio Permanência                               1\n",
       "Auxílio Moradia - Alojamento Provisório           1\n",
       "Auxílio Instalação                                1\n",
       "Auxílio Moradia (Campus SLS, SVP)                 1\n",
       "Auxílio Alimentação                               1\n",
       "Auxílio Transporte                                1\n",
       "Auxílio Alimentação Pecuniário (SAP, SVP, SLS)    1\n",
       "Bolsa Permanência                                 1\n",
       "Name: ds_subprograma, dtype: int64"
      ]
     },
     "execution_count": 42,
     "metadata": {},
     "output_type": "execute_result"
    }
   ],
   "source": [
    "df1[\"ds_subprograma\"].value_counts()"
   ]
  },
  {
   "cell_type": "markdown",
   "metadata": {},
   "source": [
    "- Agrupar dados: Pode ser interessante juntar dados que tenham informações em comum, para isso usamos o **.groupby()**:"
   ]
  },
  {
   "cell_type": "code",
   "execution_count": 46,
   "metadata": {},
   "outputs": [
    {
     "data": {
      "text/html": [
       "<div>\n",
       "<style scoped>\n",
       "    .dataframe tbody tr th:only-of-type {\n",
       "        vertical-align: middle;\n",
       "    }\n",
       "\n",
       "    .dataframe tbody tr th {\n",
       "        vertical-align: top;\n",
       "    }\n",
       "\n",
       "    .dataframe thead th {\n",
       "        text-align: right;\n",
       "    }\n",
       "</style>\n",
       "<table border=\"1\" class=\"dataframe\">\n",
       "  <thead>\n",
       "    <tr style=\"text-align: right;\">\n",
       "      <th></th>\n",
       "      <th>id_subprograma</th>\n",
       "    </tr>\n",
       "    <tr>\n",
       "      <th>ds_categoria</th>\n",
       "      <th></th>\n",
       "    </tr>\n",
       "  </thead>\n",
       "  <tbody>\n",
       "    <tr>\n",
       "      <th>Bolsa</th>\n",
       "      <td>12.666667</td>\n",
       "    </tr>\n",
       "    <tr>\n",
       "      <th>Subprograma</th>\n",
       "      <td>15.923077</td>\n",
       "    </tr>\n",
       "  </tbody>\n",
       "</table>\n",
       "</div>"
      ],
      "text/plain": [
       "              id_subprograma\n",
       "ds_categoria                \n",
       "Bolsa              12.666667\n",
       "Subprograma        15.923077"
      ]
     },
     "execution_count": 46,
     "metadata": {},
     "output_type": "execute_result"
    }
   ],
   "source": [
    "#nesse caso usamos o groupby com a informação das médias agrupadas.\n",
    "df1.groupby(\"ds_categoria\").mean()"
   ]
  },
  {
   "cell_type": "markdown",
   "metadata": {},
   "source": [
    "Para aplicarmos uma função qualquer no dados usamos a função **.apply()**. Exemplos disso são, fazer um aumento em uma certa coluna, ou então simplificar nome, usamos o método citado. "
   ]
  },
  {
   "cell_type": "code",
   "execution_count": 47,
   "metadata": {},
   "outputs": [
    {
     "data": {
      "text/plain": [
       "0     Sub\n",
       "1     Sub\n",
       "2     Bol\n",
       "3     Sub\n",
       "4     Sub\n",
       "5     Sub\n",
       "6     Sub\n",
       "7     Sub\n",
       "8     Sub\n",
       "9     Sub\n",
       "10    Sub\n",
       "11    Sub\n",
       "12    Sub\n",
       "13    Bol\n",
       "14    Bol\n",
       "15    Sub\n",
       "Name: ds_categoria, dtype: object"
      ]
     },
     "execution_count": 47,
     "metadata": {},
     "output_type": "execute_result"
    }
   ],
   "source": [
    "df1[\"ds_categoria\"].apply(lambda x: x[:3])"
   ]
  },
  {
   "cell_type": "markdown",
   "metadata": {},
   "source": [
    "Para manter o instinto de curioso, deixamos como dever de casa procurar o que são expressões **LAMBDA**."
   ]
  },
  {
   "cell_type": "markdown",
   "metadata": {},
   "source": [
    "![B](https://media.giphy.com/media/xGdvlOVSWaDvi/giphy.gif)"
   ]
  },
  {
   "cell_type": "markdown",
   "metadata": {},
   "source": [
    "O **PANDAS** é reconhecido por conseguir tratar dados incompletos, sendo um grande aliado para a ciência de dados. O Pandas preenche as células sem valores com np.nan, que é valor especifico do Numpy, **Not a Number**. "
   ]
  },
  {
   "cell_type": "markdown",
   "metadata": {},
   "source": [
    "## Exercicio 1"
   ]
  },
  {
   "cell_type": "markdown",
   "metadata": {},
   "source": [
    "Como um primeiro exercicio, vamos um criar um novo DataFrame contendo as 5 primeiras linhas. Usando a função **.head()**"
   ]
  },
  {
   "cell_type": "code",
   "execution_count": 48,
   "metadata": {},
   "outputs": [],
   "source": [
    "df2 = df1.head()"
   ]
  },
  {
   "cell_type": "code",
   "execution_count": 49,
   "metadata": {},
   "outputs": [
    {
     "data": {
      "text/html": [
       "<div>\n",
       "<style scoped>\n",
       "    .dataframe tbody tr th:only-of-type {\n",
       "        vertical-align: middle;\n",
       "    }\n",
       "\n",
       "    .dataframe tbody tr th {\n",
       "        vertical-align: top;\n",
       "    }\n",
       "\n",
       "    .dataframe thead th {\n",
       "        text-align: right;\n",
       "    }\n",
       "</style>\n",
       "<table border=\"1\" class=\"dataframe\">\n",
       "  <thead>\n",
       "    <tr style=\"text-align: right;\">\n",
       "      <th></th>\n",
       "      <th>id_subprograma</th>\n",
       "      <th>ds_subprograma</th>\n",
       "      <th>fl_parcial</th>\n",
       "      <th>fl_pergunta_quantidade</th>\n",
       "      <th>ds_pergunta_quantidade</th>\n",
       "      <th>ds_categoria</th>\n",
       "    </tr>\n",
       "  </thead>\n",
       "  <tbody>\n",
       "    <tr>\n",
       "      <th>0</th>\n",
       "      <td>7</td>\n",
       "      <td>Auxílio Alimentação</td>\n",
       "      <td>S</td>\n",
       "      <td>S</td>\n",
       "      <td>Quantos tickets alimentação você necessita por...</td>\n",
       "      <td>Subprograma</td>\n",
       "    </tr>\n",
       "    <tr>\n",
       "      <th>1</th>\n",
       "      <td>20</td>\n",
       "      <td>Auxílio Alimentação Pecuniário (SAP, SVP, SLS)</td>\n",
       "      <td>N</td>\n",
       "      <td>N</td>\n",
       "      <td>NaN</td>\n",
       "      <td>Subprograma</td>\n",
       "    </tr>\n",
       "    <tr>\n",
       "      <th>2</th>\n",
       "      <td>10</td>\n",
       "      <td>Auxílio Infância</td>\n",
       "      <td>N</td>\n",
       "      <td>S</td>\n",
       "      <td>Quantos filhos/as em idade para recebimento do...</td>\n",
       "      <td>Bolsa</td>\n",
       "    </tr>\n",
       "    <tr>\n",
       "      <th>3</th>\n",
       "      <td>23</td>\n",
       "      <td>Auxílio Instalação</td>\n",
       "      <td>N</td>\n",
       "      <td>N</td>\n",
       "      <td>NaN</td>\n",
       "      <td>Subprograma</td>\n",
       "    </tr>\n",
       "    <tr>\n",
       "      <th>4</th>\n",
       "      <td>5</td>\n",
       "      <td>Auxílio Moradia</td>\n",
       "      <td>N</td>\n",
       "      <td>N</td>\n",
       "      <td>NaN</td>\n",
       "      <td>Subprograma</td>\n",
       "    </tr>\n",
       "  </tbody>\n",
       "</table>\n",
       "</div>"
      ],
      "text/plain": [
       "   id_subprograma                                  ds_subprograma fl_parcial  \\\n",
       "0               7                             Auxílio Alimentação          S   \n",
       "1              20  Auxílio Alimentação Pecuniário (SAP, SVP, SLS)          N   \n",
       "2              10                                Auxílio Infância          N   \n",
       "3              23                              Auxílio Instalação          N   \n",
       "4               5                                 Auxílio Moradia          N   \n",
       "\n",
       "  fl_pergunta_quantidade                             ds_pergunta_quantidade  \\\n",
       "0                      S  Quantos tickets alimentação você necessita por...   \n",
       "1                      N                                                NaN   \n",
       "2                      S  Quantos filhos/as em idade para recebimento do...   \n",
       "3                      N                                                NaN   \n",
       "4                      N                                                NaN   \n",
       "\n",
       "  ds_categoria  \n",
       "0  Subprograma  \n",
       "1  Subprograma  \n",
       "2        Bolsa  \n",
       "3  Subprograma  \n",
       "4  Subprograma  "
      ]
     },
     "execution_count": 49,
     "metadata": {},
     "output_type": "execute_result"
    }
   ],
   "source": [
    "df2"
   ]
  },
  {
   "cell_type": "markdown",
   "metadata": {},
   "source": [
    "Agora vamos dropar os elementos NaN, do nosso DataFrame, usando o método **.dropna()**:"
   ]
  },
  {
   "cell_type": "code",
   "execution_count": 51,
   "metadata": {},
   "outputs": [
    {
     "data": {
      "text/html": [
       "<div>\n",
       "<style scoped>\n",
       "    .dataframe tbody tr th:only-of-type {\n",
       "        vertical-align: middle;\n",
       "    }\n",
       "\n",
       "    .dataframe tbody tr th {\n",
       "        vertical-align: top;\n",
       "    }\n",
       "\n",
       "    .dataframe thead th {\n",
       "        text-align: right;\n",
       "    }\n",
       "</style>\n",
       "<table border=\"1\" class=\"dataframe\">\n",
       "  <thead>\n",
       "    <tr style=\"text-align: right;\">\n",
       "      <th></th>\n",
       "      <th>id_subprograma</th>\n",
       "      <th>ds_subprograma</th>\n",
       "      <th>fl_parcial</th>\n",
       "      <th>fl_pergunta_quantidade</th>\n",
       "      <th>ds_pergunta_quantidade</th>\n",
       "      <th>ds_categoria</th>\n",
       "    </tr>\n",
       "  </thead>\n",
       "  <tbody>\n",
       "    <tr>\n",
       "      <th>0</th>\n",
       "      <td>7</td>\n",
       "      <td>Auxílio Alimentação</td>\n",
       "      <td>S</td>\n",
       "      <td>S</td>\n",
       "      <td>Quantos tickets alimentação você necessita por...</td>\n",
       "      <td>Subprograma</td>\n",
       "    </tr>\n",
       "    <tr>\n",
       "      <th>2</th>\n",
       "      <td>10</td>\n",
       "      <td>Auxílio Infância</td>\n",
       "      <td>N</td>\n",
       "      <td>S</td>\n",
       "      <td>Quantos filhos/as em idade para recebimento do...</td>\n",
       "      <td>Bolsa</td>\n",
       "    </tr>\n",
       "  </tbody>\n",
       "</table>\n",
       "</div>"
      ],
      "text/plain": [
       "   id_subprograma       ds_subprograma fl_parcial fl_pergunta_quantidade  \\\n",
       "0               7  Auxílio Alimentação          S                      S   \n",
       "2              10     Auxílio Infância          N                      S   \n",
       "\n",
       "                              ds_pergunta_quantidade ds_categoria  \n",
       "0  Quantos tickets alimentação você necessita por...  Subprograma  \n",
       "2  Quantos filhos/as em idade para recebimento do...        Bolsa  "
      ]
     },
     "execution_count": 51,
     "metadata": {},
     "output_type": "execute_result"
    }
   ],
   "source": [
    "df2.dropna()"
   ]
  },
  {
   "cell_type": "markdown",
   "metadata": {},
   "source": [
    "Podemos também substituir os Valor NaN por um outro, para isso usamos **.fillna()**, lembrando que dentro do parentêse será colocado o que será substuido:"
   ]
  },
  {
   "cell_type": "code",
   "execution_count": 52,
   "metadata": {},
   "outputs": [
    {
     "data": {
      "text/html": [
       "<div>\n",
       "<style scoped>\n",
       "    .dataframe tbody tr th:only-of-type {\n",
       "        vertical-align: middle;\n",
       "    }\n",
       "\n",
       "    .dataframe tbody tr th {\n",
       "        vertical-align: top;\n",
       "    }\n",
       "\n",
       "    .dataframe thead th {\n",
       "        text-align: right;\n",
       "    }\n",
       "</style>\n",
       "<table border=\"1\" class=\"dataframe\">\n",
       "  <thead>\n",
       "    <tr style=\"text-align: right;\">\n",
       "      <th></th>\n",
       "      <th>id_subprograma</th>\n",
       "      <th>ds_subprograma</th>\n",
       "      <th>fl_parcial</th>\n",
       "      <th>fl_pergunta_quantidade</th>\n",
       "      <th>ds_pergunta_quantidade</th>\n",
       "      <th>ds_categoria</th>\n",
       "    </tr>\n",
       "  </thead>\n",
       "  <tbody>\n",
       "    <tr>\n",
       "      <th>0</th>\n",
       "      <td>7</td>\n",
       "      <td>Auxílio Alimentação</td>\n",
       "      <td>S</td>\n",
       "      <td>S</td>\n",
       "      <td>Quantos tickets alimentação você necessita por...</td>\n",
       "      <td>Subprograma</td>\n",
       "    </tr>\n",
       "    <tr>\n",
       "      <th>1</th>\n",
       "      <td>20</td>\n",
       "      <td>Auxílio Alimentação Pecuniário (SAP, SVP, SLS)</td>\n",
       "      <td>N</td>\n",
       "      <td>N</td>\n",
       "      <td>sem resposta</td>\n",
       "      <td>Subprograma</td>\n",
       "    </tr>\n",
       "    <tr>\n",
       "      <th>2</th>\n",
       "      <td>10</td>\n",
       "      <td>Auxílio Infância</td>\n",
       "      <td>N</td>\n",
       "      <td>S</td>\n",
       "      <td>Quantos filhos/as em idade para recebimento do...</td>\n",
       "      <td>Bolsa</td>\n",
       "    </tr>\n",
       "    <tr>\n",
       "      <th>3</th>\n",
       "      <td>23</td>\n",
       "      <td>Auxílio Instalação</td>\n",
       "      <td>N</td>\n",
       "      <td>N</td>\n",
       "      <td>sem resposta</td>\n",
       "      <td>Subprograma</td>\n",
       "    </tr>\n",
       "    <tr>\n",
       "      <th>4</th>\n",
       "      <td>5</td>\n",
       "      <td>Auxílio Moradia</td>\n",
       "      <td>N</td>\n",
       "      <td>N</td>\n",
       "      <td>sem resposta</td>\n",
       "      <td>Subprograma</td>\n",
       "    </tr>\n",
       "  </tbody>\n",
       "</table>\n",
       "</div>"
      ],
      "text/plain": [
       "   id_subprograma                                  ds_subprograma fl_parcial  \\\n",
       "0               7                             Auxílio Alimentação          S   \n",
       "1              20  Auxílio Alimentação Pecuniário (SAP, SVP, SLS)          N   \n",
       "2              10                                Auxílio Infância          N   \n",
       "3              23                              Auxílio Instalação          N   \n",
       "4               5                                 Auxílio Moradia          N   \n",
       "\n",
       "  fl_pergunta_quantidade                             ds_pergunta_quantidade  \\\n",
       "0                      S  Quantos tickets alimentação você necessita por...   \n",
       "1                      N                                       sem resposta   \n",
       "2                      S  Quantos filhos/as em idade para recebimento do...   \n",
       "3                      N                                       sem resposta   \n",
       "4                      N                                       sem resposta   \n",
       "\n",
       "  ds_categoria  \n",
       "0  Subprograma  \n",
       "1  Subprograma  \n",
       "2        Bolsa  \n",
       "3  Subprograma  \n",
       "4  Subprograma  "
      ]
     },
     "execution_count": 52,
     "metadata": {},
     "output_type": "execute_result"
    }
   ],
   "source": [
    "df2.fillna(\"sem resposta\")"
   ]
  },
  {
   "cell_type": "markdown",
   "metadata": {},
   "source": [
    "Podemos também querer saber as linhas que contenham elementos NaN de uma coluna, precisamos usar **.isna()**"
   ]
  },
  {
   "cell_type": "code",
   "execution_count": 55,
   "metadata": {},
   "outputs": [
    {
     "data": {
      "text/html": [
       "<div>\n",
       "<style scoped>\n",
       "    .dataframe tbody tr th:only-of-type {\n",
       "        vertical-align: middle;\n",
       "    }\n",
       "\n",
       "    .dataframe tbody tr th {\n",
       "        vertical-align: top;\n",
       "    }\n",
       "\n",
       "    .dataframe thead th {\n",
       "        text-align: right;\n",
       "    }\n",
       "</style>\n",
       "<table border=\"1\" class=\"dataframe\">\n",
       "  <thead>\n",
       "    <tr style=\"text-align: right;\">\n",
       "      <th></th>\n",
       "      <th>id_subprograma</th>\n",
       "      <th>ds_subprograma</th>\n",
       "      <th>fl_parcial</th>\n",
       "      <th>fl_pergunta_quantidade</th>\n",
       "      <th>ds_pergunta_quantidade</th>\n",
       "      <th>ds_categoria</th>\n",
       "    </tr>\n",
       "  </thead>\n",
       "  <tbody>\n",
       "    <tr>\n",
       "      <th>1</th>\n",
       "      <td>20</td>\n",
       "      <td>Auxílio Alimentação Pecuniário (SAP, SVP, SLS)</td>\n",
       "      <td>N</td>\n",
       "      <td>N</td>\n",
       "      <td>NaN</td>\n",
       "      <td>Subprograma</td>\n",
       "    </tr>\n",
       "    <tr>\n",
       "      <th>3</th>\n",
       "      <td>23</td>\n",
       "      <td>Auxílio Instalação</td>\n",
       "      <td>N</td>\n",
       "      <td>N</td>\n",
       "      <td>NaN</td>\n",
       "      <td>Subprograma</td>\n",
       "    </tr>\n",
       "    <tr>\n",
       "      <th>4</th>\n",
       "      <td>5</td>\n",
       "      <td>Auxílio Moradia</td>\n",
       "      <td>N</td>\n",
       "      <td>N</td>\n",
       "      <td>NaN</td>\n",
       "      <td>Subprograma</td>\n",
       "    </tr>\n",
       "  </tbody>\n",
       "</table>\n",
       "</div>"
      ],
      "text/plain": [
       "   id_subprograma                                  ds_subprograma fl_parcial  \\\n",
       "1              20  Auxílio Alimentação Pecuniário (SAP, SVP, SLS)          N   \n",
       "3              23                              Auxílio Instalação          N   \n",
       "4               5                                 Auxílio Moradia          N   \n",
       "\n",
       "  fl_pergunta_quantidade ds_pergunta_quantidade ds_categoria  \n",
       "1                      N                    NaN  Subprograma  \n",
       "3                      N                    NaN  Subprograma  \n",
       "4                      N                    NaN  Subprograma  "
      ]
     },
     "execution_count": 55,
     "metadata": {},
     "output_type": "execute_result"
    }
   ],
   "source": [
    "#usamos df2[df2[coluna].isna()] para saber mostrar a tabela, não apenas a coluna. \n",
    "df2[df2[\"ds_pergunta_quantidade\"].isna()]"
   ]
  },
  {
   "cell_type": "markdown",
   "metadata": {},
   "source": [
    "## Visualização de dados"
   ]
  },
  {
   "cell_type": "markdown",
   "metadata": {},
   "source": [
    "Para a visualização de dados é feita a partir de recursos ofericidos pela biblioteca **matplotlib**, também indicamos que procure a biblioteca **seaborn**, para uma visualização estátistica."
   ]
  },
  {
   "cell_type": "markdown",
   "metadata": {},
   "source": [
    "Para isso precisamos importar o **MATPLOTLIB**"
   ]
  },
  {
   "cell_type": "code",
   "execution_count": 91,
   "metadata": {},
   "outputs": [],
   "source": [
    "import matplotlib as plot"
   ]
  },
  {
   "cell_type": "markdown",
   "metadata": {},
   "source": [
    "Tanto a **série** quanto o **DataFrame** possuem o método **.plot()**, que encadeado gera visualização de diversos tipos de dados. Mas para uma visualização melhor, vamos usar apenas o DataFrame **df**"
   ]
  },
  {
   "cell_type": "code",
   "execution_count": 105,
   "metadata": {},
   "outputs": [
    {
     "data": {
      "text/plain": [
       "<matplotlib.axes._subplots.AxesSubplot at 0x25e94dbb390>"
      ]
     },
     "execution_count": 105,
     "metadata": {},
     "output_type": "execute_result"
    },
    {
     "data": {
      "image/png": "[encoded data removed]",
      "text/plain": [
       "<Figure size 432x288 with 1 Axes>"
      ]
     },
     "metadata": {},
     "output_type": "display_data"
    }
   ],
   "source": [
    "df['Seminário'].plot.pie()"
   ]
  },
  {
   "cell_type": "code",
   "execution_count": 93,
   "metadata": {},
   "outputs": [
    {
     "data": {
      "text/plain": [
       "<matplotlib.axes._subplots.AxesSubplot at 0x25e949c3588>"
      ]
     },
     "execution_count": 93,
     "metadata": {},
     "output_type": "execute_result"
    },
    {
     "data": {
      "image/png": "[encoded data removed]",
      "text/plain": [
       "<Figure size 432x288 with 1 Axes>"
      ]
     },
     "metadata": {
      "needs_background": "light"
     },
     "output_type": "display_data"
    }
   ],
   "source": [
    "df['Seminário'].plot.hist()"
   ]
  },
  {
   "cell_type": "markdown",
   "metadata": {},
   "source": [
    "Como todo bom **Padawan** precisamos praticar!!"
   ]
  },
  {
   "cell_type": "markdown",
   "metadata": {},
   "source": [
    "![P](https://www.sobrevivaemsaopaulo.com.br/wp-content/uploads/2016/01/todo-poderoso-gif2.gif)"
   ]
  }
 ],
 "metadata": {
  "kernelspec": {
   "display_name": "Python 3",
   "language": "python",
   "name": "python3"
  },
  "language_info": {
   "codemirror_mode": {
    "name": "ipython",
    "version": 3
   },
   "file_extension": ".py",
   "mimetype": "text/x-python",
   "name": "python",
   "nbconvert_exporter": "python",
   "pygments_lexer": "ipython3",
   "version": "3.7.3"
  }
 },
 "nbformat": 4,
 "nbformat_minor": 2
}
